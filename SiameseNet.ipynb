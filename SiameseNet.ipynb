{
 "cells": [
  {
   "cell_type": "code",
   "execution_count": 1,
   "metadata": {
    "collapsed": false
   },
   "outputs": [
    {
     "name": "stderr",
     "output_type": "stream",
     "text": [
      "Using Theano backend.\n",
      "/Users/wilbury/anaconda/lib/python2.7/site-packages/theano/tensor/signal/downsample.py:5: UserWarning: downsample module has been moved to the pool module.\n",
      "  warnings.warn(\"downsample module has been moved to the pool module.\")\n"
     ]
    }
   ],
   "source": [
    "from new_SiameseNet import *"
   ]
  },
  {
   "cell_type": "code",
   "execution_count": 2,
   "metadata": {
    "collapsed": false
   },
   "outputs": [
    {
     "name": "stdout",
     "output_type": "stream",
     "text": [
      "Getting CIFAR10 data...\n"
     ]
    }
   ],
   "source": [
    "# Prepare data\n",
    "print 'Getting CIFAR10 data...'\n",
    "\n",
    "data = get_CIFAR10_data()\n",
    "\n",
    "x_train, y_train = data['X_train'], data['y_train']\n",
    "x_val,   y_val   = data['X_val'],   data['y_val']\n",
    "\n",
    "N = x_train.shape[0]"
   ]
  },
  {
   "cell_type": "code",
   "execution_count": 109,
   "metadata": {
    "collapsed": false
   },
   "outputs": [],
   "source": [
    "# Specify structure of Siamese part of SiameseNet\n",
    "# This part needs to be improved. I'm kind of just using random layers.\n",
    "init = 'glorot_uniform'\n",
    "in_shp = (3,32,32)\n",
    "seq = Sequential()\n",
    "seq.add(BatchNormalization(epsilon=1e-7,\n",
    "                            mode=0,\n",
    "                            axis=1,\n",
    "                            momentum=0.9,\n",
    "                            weights=None,\n",
    "                            input_shape=in_shp))\n",
    "#seq.add(Flatten())\n",
    "#seq.add(Dense(128, activation='relu'))\n",
    "#seq.add(Dropout(0.1))\n",
    "#seq.add(Dense(128, activation='relu'))\n",
    "#seq.add(Dropout(0.1))\n",
    "for _ in range(2):\n",
    "    seq.add(Convolution2D(10, 3, 3, init=init, border_mode='same'))\n",
    "    seq.add(Activation('relu'))\n",
    "#seq.add(Dense(128, activation='relu'))\n",
    "seq.add(Flatten())\n",
    "seq.add(Dense(128))\n",
    "layers = seq\n",
    "\n",
    "sn = SiameseNet(layers, input_shape=(3, 32, 32), verbose=False)\n",
    "sn.compile()"
   ]
  },
  {
   "cell_type": "code",
   "execution_count": 110,
   "metadata": {
    "collapsed": false
   },
   "outputs": [
    {
     "name": "stdout",
     "output_type": "stream",
     "text": [
      "Train on 19520 samples, validate on 344 samples\n",
      "Epoch 1/3\n",
      "19520/19520 [==============================] - 321s - loss: 3.0432 - val_loss: 0.2648\n",
      "Epoch 2/3\n",
      "19520/19520 [==============================] - 313s - loss: 0.2571 - val_loss: 0.2548\n",
      "Epoch 3/3\n",
      "19520/19520 [==============================] - 306s - loss: 0.2401 - val_loss: 0.2404\n"
     ]
    }
   ],
   "source": [
    "def _train_sn(sn, x_train, y_train, x_val, y_val, filepath):\n",
    "    d_val = invert_dataset(x_val,  y_val)\n",
    "    d_train = invert_dataset(x_train,  y_train)\n",
    "    num_ep = 3\n",
    "    history = sn.fit(*generate_data(x_train, d_train), \n",
    "            validation_data=generate_data(x_val, d_val),\n",
    "            nb_epoch=num_ep)\n",
    "    return history\n",
    "\n",
    "history = _train_sn(sn, x_train, y_train, x_val, y_val, filepath='weights.h5')"
   ]
  },
  {
   "cell_type": "code",
   "execution_count": 111,
   "metadata": {
    "collapsed": false
   },
   "outputs": [
    {
     "name": "stdout",
     "output_type": "stream",
     "text": [
      "1.09188640118\n",
      "0.212170749903\n"
     ]
    }
   ],
   "source": [
    "#loss = sn.evaluate(*generate_data(d_val, examples_per_image=5))\n",
    "d_val = invert_dataset(x_val,  y_val)\n",
    "val_x_dat, val_y_dat = generate_data(x_val, d_val)\n",
    "prediction = sn.predict(val_x_dat)[SiameseNet.OUTPUT]\n",
    "\n",
    "ret_preds = prediction\n",
    "max_d = np.max(ret_preds)\n",
    "min_d = np.min(ret_preds)\n",
    "\n",
    "print max_d\n",
    "print min_d\n",
    "\n",
    "#thresh = (max_d + min_d) / 2.0\n",
    "#preds = [0,0]\n",
    "#for i,p in enumerate(prediction):\n",
    "#    if ret_preds[i] > thresh:\n",
    "#        preds[1] += 1\n",
    "#    else:\n",
    "#        preds[0] += 1\n",
    "#print preds"
   ]
  },
  {
   "cell_type": "code",
   "execution_count": 112,
   "metadata": {
    "collapsed": false
   },
   "outputs": [
    {
     "name": "stdout",
     "output_type": "stream",
     "text": [
      "{'loss': [3.0432393416518071, 0.25705105691659647, 0.24009145962410286], 'val_loss': [0.26479829743851063, 0.25480784649072691, 0.24040206712345744], 'batch': [152, 152, 152], 'size': [64, 64, 64]}\n"
     ]
    }
   ],
   "source": [
    "print history.history\n",
    "l = history.history['loss']\n",
    "val_l = history.history['val_loss']"
   ]
  },
  {
   "cell_type": "code",
   "execution_count": 82,
   "metadata": {
    "collapsed": true
   },
   "outputs": [],
   "source": [
    "%matplotlib inline"
   ]
  },
  {
   "cell_type": "code",
   "execution_count": 83,
   "metadata": {
    "collapsed": false
   },
   "outputs": [
    {
     "name": "stderr",
     "output_type": "stream",
     "text": [
      "/Users/wilbury/anaconda/lib/python2.7/site-packages/matplotlib/__init__.py:1318: UserWarning:  This call to matplotlib.use() has no effect\n",
      "because the backend has already been chosen;\n",
      "matplotlib.use() must be called *before* pylab, matplotlib.pyplot,\n",
      "or matplotlib.backends is imported for the first time.\n",
      "\n",
      "  warnings.warn(_use_error_msg)\n"
     ]
    }
   ],
   "source": [
    "import matplotlib\n",
    "matplotlib.use('Agg')\n",
    "import matplotlib.pyplot as plt"
   ]
  },
  {
   "cell_type": "code",
   "execution_count": 113,
   "metadata": {
    "collapsed": false
   },
   "outputs": [
    {
     "data": {
      "image/png": "[encoded data removed]",
      "text/plain": [
       "<matplotlib.figure.Figure at 0x10dd66390>"
      ]
     },
     "metadata": {},
     "output_type": "display_data"
    }
   ],
   "source": [
    "plt.figure()\n",
    "plt.plot(l, label='Training Loss')\n",
    "plt.title('Siamese Network Training/Validation Loss vs. Epochs')\n",
    "plt.plot(val_l, label='Validation Loss')\n",
    "plt.xlabel('Epochs')\n",
    "plt.ylabel('Loss')\n",
    "plt.legend()\n",
    "plt.savefig('siam_loss2.png')"
   ]
  },
  {
   "cell_type": "code",
   "execution_count": 114,
   "metadata": {
    "collapsed": true
   },
   "outputs": [],
   "source": [
    "def similarity(sn, x1, x2):\n",
    "    x = [np.array([x1]), np.array([x2])]\n",
    "    prediction = sn.predict(x, batch_size=1)\n",
    "    return prediction['output'][0][0]"
   ]
  },
  {
   "cell_type": "code",
   "execution_count": 115,
   "metadata": {
    "collapsed": false
   },
   "outputs": [
    {
     "data": {
      "text/plain": [
       "0.60172194242477417"
      ]
     },
     "execution_count": 115,
     "metadata": {},
     "output_type": "execute_result"
    }
   ],
   "source": [
    "similarity(sn, x_train[0], x_train[1])"
   ]
  },
  {
   "cell_type": "code",
   "execution_count": 119,
   "metadata": {
    "collapsed": false
   },
   "outputs": [],
   "source": [
    "num_zeros = 4913\n",
    "num_ones = 9794 - 4913\n",
    "num_examples = 20\n",
    "sorted_index = np.argsort(y_train)[:num_zeros + num_ones]\n",
    "chosen_zeros = sorted_index[random.sample(xrange(num_zeros), num_examples)]\n",
    "chosen_ones = sorted_index[random.sample(xrange(num_zeros, num_zeros + num_ones), num_examples)]\n",
    "indices = np.hstack((chosen_zeros, chosen_ones))\n",
    "sorted_y_train = y_train[indices]\n",
    "sorted_x_train = x_train[indices]"
   ]
  },
  {
   "cell_type": "code",
   "execution_count": 120,
   "metadata": {
    "collapsed": false
   },
   "outputs": [],
   "source": [
    "num_tests = len(indices)\n",
    "similarity_matrix = np.zeros((num_tests, num_tests))\n",
    "for i in xrange(num_tests):\n",
    "    for j in xrange(num_tests):\n",
    "        similarity_matrix[i][j] = similarity(sn, sorted_x_train[i], sorted_x_train[j])"
   ]
  },
  {
   "cell_type": "code",
   "execution_count": 121,
   "metadata": {
    "collapsed": false
   },
   "outputs": [
    {
     "data": {
      "image/png": "[encoded data removed]",
      "text/plain": [
       "<matplotlib.figure.Figure at 0x1559f1110>"
      ]
     },
     "metadata": {},
     "output_type": "display_data"
    }
   ],
   "source": [
    "fig, ax = plt.subplots()\n",
    "fig.set_size_inches(10, 10)\n",
    "ax.pcolor(similarity_matrix, cmap=matplotlib.cm.Blues)\n",
    "ax.set_xticks(np.arange(similarity_matrix.shape[0])+0.5, minor=False)\n",
    "ax.set_yticks(np.arange(similarity_matrix.shape[1])+0.5, minor=False)\n",
    "ax.set_xticklabels(sorted_y_train, minor=False)\n",
    "ax.set_yticklabels(sorted_y_train, minor=False)\n",
    "plt.savefig('similarity_matrix3.png')"
   ]
  },
  {
   "cell_type": "code",
   "execution_count": 157,
   "metadata": {
    "collapsed": false
   },
   "outputs": [
    {
     "name": "stdout",
     "output_type": "stream",
     "text": [
      "0.418063285201\n",
      "0.365545945992\n",
      "0.438683414161\n",
      "0.438683411181\n"
     ]
    }
   ],
   "source": [
    "print np.mean(similarity_matrix[0:10:1,0:10:1])\n",
    "print np.mean(similarity_matrix[10:20:1,10:20:1])\n",
    "print np.mean(similarity_matrix[0:10:1,10:20:1])\n",
    "print np.mean(similarity_matrix[10:20:1,0:10:1])"
   ]
  },
  {
   "cell_type": "code",
   "execution_count": null,
   "metadata": {
    "collapsed": false
   },
   "outputs": [],
   "source": []
  },
  {
   "cell_type": "code",
   "execution_count": null,
   "metadata": {
    "collapsed": true
   },
   "outputs": [],
   "source": []
  }
 ],
 "metadata": {
  "kernelspec": {
   "display_name": "Python 2",
   "language": "python",
   "name": "python2"
  },
  "language_info": {
   "codemirror_mode": {
    "name": "ipython",
    "version": 2
   },
   "file_extension": ".py",
   "mimetype": "text/x-python",
   "name": "python",
   "nbconvert_exporter": "python",
   "pygments_lexer": "ipython2",
   "version": "2.7.10"
  }
 },
 "nbformat": 4,
 "nbformat_minor": 0
}
